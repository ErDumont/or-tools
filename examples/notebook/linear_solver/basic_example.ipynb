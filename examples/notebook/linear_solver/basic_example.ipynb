{
 "cells": [
  {
   "cell_type": "markdown",
   "id": "e2db61a1",
   "metadata": {},
   "source": [
    "##### Copyright 2021 Google LLC."
   ]
  },
  {
   "cell_type": "markdown",
   "id": "53210247",
   "metadata": {},
   "source": [
    "Licensed under the Apache License, Version 2.0 (the \"License\");\n",
    "you may not use this file except in compliance with the License.\n",
    "You may obtain a copy of the License at\n",
    "\n",
    "    http://www.apache.org/licenses/LICENSE-2.0\n",
    "\n",
    "Unless required by applicable law or agreed to in writing, software\n",
    "distributed under the License is distributed on an \"AS IS\" BASIS,\n",
    "WITHOUT WARRANTIES OR CONDITIONS OF ANY KIND, either express or implied.\n",
    "See the License for the specific language governing permissions and\n",
    "limitations under the License.\n"
   ]
  },
  {
   "cell_type": "markdown",
   "id": "f9e18100",
   "metadata": {},
   "source": [
    "# basic_example"
   ]
  },
  {
   "cell_type": "markdown",
   "id": "e29d4987",
   "metadata": {},
   "source": [
    "<table align=\"left\">\n",
    "<td>\n",
    "<a href=\"https://colab.research.google.com/github/google/or-tools/blob/master/examples/notebook/linear_solver/basic_example.ipynb\"><img src=\"https://raw.githubusercontent.com/google/or-tools/master/tools/colab_32px.png\"/>Run in Google Colab</a>\n",
    "</td>\n",
    "<td>\n",
    "<a href=\"https://github.com/google/or-tools/blob/master/ortools/linear_solver/samples/basic_example.py\"><img src=\"https://raw.githubusercontent.com/google/or-tools/master/tools/github_32px.png\"/>View source on GitHub</a>\n",
    "</td>\n",
    "</table>"
   ]
  },
  {
   "cell_type": "markdown",
   "id": "67efeee7",
   "metadata": {},
   "source": [
    "First, you must install [ortools](https://pypi.org/project/ortools/) package in this colab."
   ]
  },
  {
   "cell_type": "code",
   "execution_count": null,
   "id": "2036f745",
   "metadata": {},
   "outputs": [],
   "source": [
    "!pip install ortools"
   ]
  },
  {
   "cell_type": "code",
   "execution_count": null,
   "id": "07e41281",
   "metadata": {},
   "outputs": [],
   "source": [
    "#!/usr/bin/env python3\n",
    "# Copyright 2010-2021 Google LLC\n",
    "# Licensed under the Apache License, Version 2.0 (the \"License\");\n",
    "# you may not use this file except in compliance with the License.\n",
    "# You may obtain a copy of the License at\n",
    "#\n",
    "#     http://www.apache.org/licenses/LICENSE-2.0\n",
    "#\n",
    "# Unless required by applicable law or agreed to in writing, software\n",
    "# distributed under the License is distributed on an \"AS IS\" BASIS,\n",
    "# WITHOUT WARRANTIES OR CONDITIONS OF ANY KIND, either express or implied.\n",
    "# See the License for the specific language governing permissions and\n",
    "# limitations under the License.\n",
    "\"\"\"Minimal example to call the GLOP solver.\"\"\"\n",
    "# [START program]\n",
    "# [START import]\n",
    "from ortools.linear_solver import pywraplp\n",
    "from ortools.init import pywrapinit\n",
    "# [END import]\n",
    "\n",
    "\n",
    "# [START solver]\n",
    "# Create the linear solver with the GLOP backend.\n",
    "solver = pywraplp.Solver.CreateSolver('GLOP')\n",
    "# [END solver]\n",
    "\n",
    "# [START variables]\n",
    "# Create the variables x and y.\n",
    "x = solver.NumVar(0, 1, 'x')\n",
    "y = solver.NumVar(0, 2, 'y')\n",
    "\n",
    "print('Number of variables =', solver.NumVariables())\n",
    "# [END variables]\n",
    "\n",
    "# [START constraints]\n",
    "# Create a linear constraint, 0 <= x + y <= 2.\n",
    "ct = solver.Constraint(0, 2, 'ct')\n",
    "ct.SetCoefficient(x, 1)\n",
    "ct.SetCoefficient(y, 1)\n",
    "\n",
    "print('Number of constraints =', solver.NumConstraints())\n",
    "# [END constraints]\n",
    "\n",
    "# [START objective]\n",
    "# Create the objective function, 3 * x + y.\n",
    "objective = solver.Objective()\n",
    "objective.SetCoefficient(x, 3)\n",
    "objective.SetCoefficient(y, 1)\n",
    "objective.SetMaximization()\n",
    "# [END objective]\n",
    "\n",
    "# [START solve]\n",
    "solver.Solve()\n",
    "# [END solve]\n",
    "\n",
    "# [START print_solution]\n",
    "print('Solution:')\n",
    "print('Objective value =', objective.Value())\n",
    "print('x =', x.solution_value())\n",
    "print('y =', y.solution_value())\n",
    "# [END print_solution]\n",
    "\n"
   ]
  }
 ],
 "metadata": {},
 "nbformat": 4,
 "nbformat_minor": 5
}
