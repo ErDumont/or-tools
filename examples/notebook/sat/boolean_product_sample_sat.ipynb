{
 "cells": [
  {
   "cell_type": "markdown",
   "id": "11775d97",
   "metadata": {},
   "source": [
    "##### Copyright 2021 Google LLC."
   ]
  },
  {
   "cell_type": "markdown",
   "id": "48d22bff",
   "metadata": {},
   "source": [
    "Licensed under the Apache License, Version 2.0 (the \"License\");\n",
    "you may not use this file except in compliance with the License.\n",
    "You may obtain a copy of the License at\n",
    "\n",
    "    http://www.apache.org/licenses/LICENSE-2.0\n",
    "\n",
    "Unless required by applicable law or agreed to in writing, software\n",
    "distributed under the License is distributed on an \"AS IS\" BASIS,\n",
    "WITHOUT WARRANTIES OR CONDITIONS OF ANY KIND, either express or implied.\n",
    "See the License for the specific language governing permissions and\n",
    "limitations under the License.\n"
   ]
  },
  {
   "cell_type": "markdown",
   "id": "ac3abbda",
   "metadata": {},
   "source": [
    "# boolean_product_sample_sat"
   ]
  },
  {
   "cell_type": "markdown",
   "id": "7d615038",
   "metadata": {},
   "source": [
    "<table align=\"left\">\n",
    "<td>\n",
    "<a href=\"https://colab.research.google.com/github/google/or-tools/blob/master/examples/notebook/sat/boolean_product_sample_sat.ipynb\"><img src=\"https://raw.githubusercontent.com/google/or-tools/master/tools/colab_32px.png\"/>Run in Google Colab</a>\n",
    "</td>\n",
    "<td>\n",
    "<a href=\"https://github.com/google/or-tools/blob/master/ortools/sat/samples/boolean_product_sample_sat.py\"><img src=\"https://raw.githubusercontent.com/google/or-tools/master/tools/github_32px.png\"/>View source on GitHub</a>\n",
    "</td>\n",
    "</table>"
   ]
  },
  {
   "cell_type": "markdown",
   "id": "6edede74",
   "metadata": {},
   "source": [
    "First, you must install [ortools](https://pypi.org/project/ortools/) package in this colab."
   ]
  },
  {
   "cell_type": "code",
   "execution_count": null,
   "id": "0534f755",
   "metadata": {},
   "outputs": [],
   "source": [
    "!pip install ortools"
   ]
  },
  {
   "cell_type": "code",
   "execution_count": null,
   "id": "eb00e586",
   "metadata": {},
   "outputs": [],
   "source": [
    "#!/usr/bin/env python3\n",
    "# Copyright 2010-2021 Google LLC\n",
    "# Licensed under the Apache License, Version 2.0 (the \"License\");\n",
    "# you may not use this file except in compliance with the License.\n",
    "# You may obtain a copy of the License at\n",
    "#\n",
    "#     http://www.apache.org/licenses/LICENSE-2.0\n",
    "#\n",
    "# Unless required by applicable law or agreed to in writing, software\n",
    "# distributed under the License is distributed on an \"AS IS\" BASIS,\n",
    "# WITHOUT WARRANTIES OR CONDITIONS OF ANY KIND, either express or implied.\n",
    "# See the License for the specific language governing permissions and\n",
    "# limitations under the License.\n",
    "\"\"\"Code sample that encodes the product of two Boolean variables.\"\"\"\n",
    "\n",
    "from ortools.sat.python import cp_model\n",
    "\n",
    "\n",
    "def BooleanProductSampleSat():\n",
    "    \"\"\"Encoding of the product of two Boolean variables.\n",
    "\n",
    "  p == x * y, which is the same as p <=> x and y\n",
    "  \"\"\"\n",
    "    model = cp_model.CpModel()\n",
    "    x = model.NewBoolVar('x')\n",
    "    y = model.NewBoolVar('y')\n",
    "    p = model.NewBoolVar('p')\n",
    "\n",
    "    # x and y implies p, rewrite as not(x and y) or p\n",
    "    model.AddBoolOr([x.Not(), y.Not(), p])\n",
    "\n",
    "    # p implies x and y, expanded into two implication\n",
    "    model.AddImplication(p, x)\n",
    "    model.AddImplication(p, y)\n",
    "\n",
    "    # Create a solver and solve.\n",
    "    solver = cp_model.CpSolver()\n",
    "    solution_printer = cp_model.VarArraySolutionPrinter([x, y, p])\n",
    "    solver.parameters.enumerate_all_solutions = True\n",
    "    solver.Solve(model, solution_printer)\n",
    "\n",
    "\n",
    "BooleanProductSampleSat()\n",
    "\n"
   ]
  }
 ],
 "metadata": {},
 "nbformat": 4,
 "nbformat_minor": 5
}
